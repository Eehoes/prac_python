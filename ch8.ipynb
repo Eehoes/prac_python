{
 "cells": [
  {
   "cell_type": "markdown",
   "id": "02cb5bf9",
   "metadata": {},
   "source": [
    "### 객체\n",
    "\n",
    "여러 가지 속성을 가질 수 있는 대상을 객체라고 한다. 즉, 속성을 가질 수 있는 모든 것을 ‘객체’라고 부른다. \n",
    "\n",
    "### 클래스\n",
    "\n",
    "객체를 조금 더 효율적으로 생성하기 위해 만들어진 구문\n",
    "\n",
    "```python\n",
    "class class_name :\n",
    "\tclass 내용\n",
    "```\n",
    "\n",
    "이렇게 만들어진 클래스는 클래스 이름과 같은 함수(생성자)를 사용해서 객체를 만든다. \n",
    "\n",
    "```python\n",
    "instance_name(variable_name) = class_name()\n",
    "```\n",
    "\n",
    "여기서 class_name() 를 생성자 함수라고 하며, 이러한 클래스를 기반으로 만들어진 객체를 인스턴스 라고 한다. \n",
    "\n",
    "```python\n",
    "# 클래스를 선언\n",
    "class Student :\n",
    "\tpass\n",
    "\t\n",
    "# 학생을 선언\n",
    "student = Student()\n",
    "\n",
    "# 학생 4명을 선언\n",
    "students = [\n",
    "\tStudent(),\n",
    "\tStudent(),\n",
    "\tStudent(),\n",
    "\tStudent()\n",
    "]\n",
    "```\n",
    "\n",
    "그 외에도 추상화 라는 개념이 있는데, 프로그램에서 필요한 요소만을 사용해서 객체를 표현하는 것을 추상화 라고 한다."
   ]
  },
  {
   "cell_type": "markdown",
   "id": "f3d98f46",
   "metadata": {},
   "source": [
    "### 생성자\n",
    "\n",
    "클래스 내부에 _ _*init* _ _ 라는 함수를 만들어 객체를 생성할 때 처리할 내용을 작성할 수 있다.\n",
    "\n",
    "쉽게 말해 생성자는 객체가 생성될 때 해당 객체의 멤버 변수 등 초기화가 필요한 데이터를 객체가 생성될 때 초기화 해주는 역할이다.  \n",
    "\n",
    "일일이 멤버 변수를 설정하는 함수를 호출하는것은 에러를 발생시킬 가능성이 있으므로 생성자를 통해 객체를 생성하면서 자동으로 초기화 하는것이 안전하다.\n",
    "\n",
    "```python\n",
    "class class_name :\n",
    "\tdef __init__(self, 추가적인 매개변수):\n",
    "\t\tpass\n",
    "```\n",
    "\n",
    "클래스 내부의 함수는 첫 번째 매개변수로 반드시 self 를 입력해야 한다. 이때 self는 ‘자기자신’을 나타내는 딕셔너리라고 생각하면 된다. 다만 self가 가지고 있는 속성과 기능에 접근할 때는 self.<식별자> 형태로 접근한다. \n",
    "\n",
    "생성자를 생성하는 방법은 간단하다. 멤버함수의 이름을 __init__ 으로 하면 해당 멤버 함수는 생성자의 역할을 하도록 약속 되어있다. (_)를 2개 사용하여 init 앞뒤로 붙여주며 일반적인 기능 동작이 아닌 초기화를 목적으로 하는 객체 생성과 동시에 호출되는 함수라고 생각하면 된다."
   ]
  },
  {
   "cell_type": "code",
   "execution_count": 1,
   "id": "48226708",
   "metadata": {},
   "outputs": [
    {
     "name": "stdout",
     "output_type": "stream",
     "text": [
      "생성자 호출\n",
      "객체 멤버 함수 호출 : 10\n"
     ]
    }
   ],
   "source": [
    "class Test : \n",
    "\tdef __init__(self,num):\n",
    "\t\tprint(\"생성자 호출\")\n",
    "\t\tself.num = num\n",
    "\t\t\n",
    "\tdef print_num(self) :\n",
    "\t\tprint(\"객체 멤버 함수 호출 :\", self.num)\n",
    "\t\t\n",
    "test = Test(10)\n",
    "\n",
    "test.print_num()"
   ]
  },
  {
   "cell_type": "markdown",
   "id": "bc0caec0",
   "metadata": {},
   "source": [
    "위 클래스는 생성자가 존재하며 인수는 1개만 받아 들인다. self는 자기자신을 나타내는 다른 매개변수라 객체 생성시 값을 넘겨줄 필요가 없음을 앞에서 정리하였다. 따라서 객체 생성시 **Test(10)처럼 생성자의 매개변수에 값을 넘겨주어 멤버 변수의 값을 초기화 시켜야 한다.** 생성자는 print_num함수가 호출되기도 전인 객체 생성 과정에서 바로 호출되는 것을 확인 할 수 있다.\n",
    "\n",
    "즉, **객체 생성 → 생성자 호출 → 멤버 변수 초기화 → 객체를 통한 기능 수행** 의 순서로 클래스가 동작하는 것을 알 수 있다.\n",
    "\n",
    "[[Python 기본 공부정리] 8-2. 클래스 - 생성자(constructor)](https://min-zero.tistory.com/entry/Python-%EA%B8%B0%EB%B3%B8-%EA%B3%B5%EB%B6%80%EC%A0%95%EB%A6%AC-8-2-%EC%83%9D%EC%84%B1%EC%9E%90constructor)\n",
    "\n",
    "참고자료 - 생성자"
   ]
  },
  {
   "cell_type": "markdown",
   "id": "e59ec81b",
   "metadata": {},
   "source": [
    "### 소멸자\n",
    "\n",
    "생성자와 반대로 인스턴스가 소멸될 때 호출되는 함수이다. 클래스 내부에 __del__(self) 형태로 함수를 선언해서 만든다."
   ]
  },
  {
   "cell_type": "code",
   "execution_count": 6,
   "id": "34bbb404",
   "metadata": {},
   "outputs": [
    {
     "name": "stdout",
     "output_type": "stream",
     "text": [
      "A - 생성되었습니다.\n",
      "A - 파괴되었습니다.\n"
     ]
    }
   ],
   "source": [
    "class Test : \n",
    "\tdef __init__(self, name) :\n",
    "\t\tself.name = name\n",
    "\t\tprint(\"{} - 생성되었습니다.\".format(self.name))\n",
    "\t\n",
    "\tdef __del__(self) :\n",
    "\t\tprint(\"{} - 파괴되었습니다.\".format(self.name))\n",
    "\t\t\n",
    "\n",
    "test = Test(\"A\")\n",
    "\t\n",
    "\t\n",
    "\t"
   ]
  },
  {
   "cell_type": "markdown",
   "id": "681a9be2",
   "metadata": {},
   "source": [
    "### 메소드\n",
    "\n",
    "클래스가 가지고 있는 함수를 메소드 라고 한다. 클래스 내부에 메소드를 만들 때에는 아래와 같은 형식으로 선언한다. \n",
    "\n",
    "```python\n",
    "class class_name :\n",
    "\tdef method_name(self, variable):\n",
    "\t\tpass\n",
    "```\n",
    "\n",
    "→ 첫 번째 매개변수로 self를 넣어야 하는 것을 잊지 말자."
   ]
  },
  {
   "cell_type": "markdown",
   "id": "12ad1cc7",
   "metadata": {},
   "source": [
    "### 클래스 변수\n",
    "\n",
    "1. 클래스 변수 생성하기\n",
    "    \n",
    "    ```python\n",
    "    class class_name :\n",
    "    \tclass_varible = value\n",
    "    ```\n",
    "    \n",
    "2. 클래스 변수에 접근하기\n",
    "    \n",
    "    ```python\n",
    "    class_name.variable_name\n",
    "    ```\n",
    "    \n",
    "\n",
    "### 클래스 함수\n",
    "\n",
    "클래스 함수도 클래스 변수처럼 그냥 클래스가 가진 함수를 말한다. \n",
    "\n",
    "```python\n",
    "class class_name :\n",
    "\t@classmethod\n",
    "\tdef classFunc_name(cls,parameter):\n",
    "\t\tpass\n",
    "```\n",
    "\n",
    "여기서 cls에는 원하는 이름을 사용해도 되지만, 관례적으로 cls를 사용함..\n",
    "\n",
    "```python\n",
    "class_name.classFunc_name(parameter)\n",
    "```\n",
    "\n",
    "이런 식으로 클래스 함수를 호출한다."
   ]
  },
  {
   "cell_type": "markdown",
   "id": "55ac5803",
   "metadata": {},
   "source": [
    "### 상속\n",
    "\n",
    "상속이란 부모가 자식에게 어떤 것을 물려준다는 것을 의미한다. 클래스 또한 부모, 자식 관계가 있다.\n",
    "\n",
    "물려주는 클래스를 **Parent Class** 또는 **Super Class**\n",
    "\n",
    "물려받는 클래스를 **Child Class** 또는 **Sub Class**"
   ]
  },
  {
   "cell_type": "code",
   "execution_count": 8,
   "id": "f92ab509",
   "metadata": {},
   "outputs": [
    {
     "name": "stdout",
     "output_type": "stream",
     "text": [
      "Parent 클래스의 __init()__ 메소드가 호출되었습니다.\n",
      "Child 클래스의 __init() 메소드가 호출되었습니다.\n",
      "Parent 클래스의 test() 메소드입니다.\n",
      "test\n"
     ]
    }
   ],
   "source": [
    "# 부모 클래스 선언\n",
    "class Parent_func: \n",
    "    def __init__(self) :\n",
    "        self.value = \"test\"\n",
    "        print(\"Parent 클래스의 __init()__ 메소드가 호출되었습니다.\")\n",
    "\n",
    "    def test(self) :\n",
    "        print(\"Parent 클래스의 test() 메소드입니다.\")\n",
    "\t\n",
    "# 자식 클래스 선언\n",
    "class Child_func(Parent_func) : \n",
    "\tdef __init__(self):\n",
    "\t\tsuper().__init__() # 부모의 __init__() 함수를 호출한다.\n",
    "\t\tprint(\"Child 클래스의 __init() 메소드가 호출되었습니다.\")\n",
    "\t\t\n",
    "\n",
    "# 자식 클래스의 인스턴스를 생성하고 부모의 메소드를 호출한다.\n",
    "child_func = Child_func()\n",
    "child_func. test()\n",
    "print(child_func.value)"
   ]
  },
  {
   "cell_type": "markdown",
   "id": "62341bf3",
   "metadata": {},
   "source": [
    "### 1. class Parent_func\n",
    "\n",
    "- 부모 클래스 선언\n",
    "- __init__() 생성자에서는 self.value = \"test\" 로 인스턴스 변수 초기화\n",
    "- test() 메소드는 출력만 수행\n",
    "\n",
    "### 2. class Child_func(Parent_func)\n",
    "\n",
    "- Child_func는 Parent_func를 상속 받습니다.\n",
    "- __init__()에서 super().__init__() 를 통해 부모의 생성자 호출:\n",
    "    - 이렇게 하지 않으면 부모 생성자에 있는 self.value = \"test\" 가 호출되지 않아서 value 속성이 생기지 않음.\n",
    "        이후 Child_func 생성자만의 메시지를 출력\n",
    "\n",
    "### 3. 인스턴스 생성 및 메소드 호출\n",
    "\n",
    "```python\n",
    "child_func = Child_func()\n",
    "```\n",
    "\n",
    "- Child_func의 생성자 실행\n",
    "    - 내부에서 super().__init__() 실행 → 부모의 생성자 먼저 실행\n",
    "    - \"Parent 클래스의 __init()__ 메소드가 호출되었습니다.\" 출력\n",
    "    - \"Child 클래스의 __init() 메소드가 호출되었습니다.\" 출력\n",
    "\n",
    "```python\n",
    "child_func.test()\n",
    "```\n",
    "- test()는 자식 클래스에 없으므로 → 상속받은 부모의 test()가 실행됨\n",
    "- \"Parent 클래스의 test() 메소드입니다.\" 출력\n",
    "\n",
    "\n",
    "```python\n",
    "print(child_func.value)\n",
    "```\n",
    "- 부모 클래스의 생성자에서 정의된 self.value = \"test\" 값이 있으므로 test 출력됨"
   ]
  }
 ],
 "metadata": {
  "kernelspec": {
   "display_name": "base",
   "language": "python",
   "name": "python3"
  },
  "language_info": {
   "codemirror_mode": {
    "name": "ipython",
    "version": 3
   },
   "file_extension": ".py",
   "mimetype": "text/x-python",
   "name": "python",
   "nbconvert_exporter": "python",
   "pygments_lexer": "ipython3",
   "version": "3.10.11"
  }
 },
 "nbformat": 4,
 "nbformat_minor": 5
}
