{
 "cells": [
  {
   "cell_type": "markdown",
   "id": "6134e9f5",
   "metadata": {},
   "source": [
    "오류는 크게 두 가지 종류로 나눌 수 있다.\n",
    "\n",
    "1. 프로그램 실행 전 발생하는 오류 → **구문 오류**\n",
    "2. 프로그램 실행 중에 발생하는 오류 → **예외 / 런타임 오류**\n",
    "\n",
    "### 구문 오류\n",
    "\n",
    "프로그램이 실행되기도 전에 발생하는 오류이다.\n",
    "\n",
    "구문 오류는 해결하지 않으면 프로그램 자체가 실행되지 않으므로, 코드를 제대로 수정해야 한다.\n",
    "\n",
    "### 예외\n",
    "\n",
    "예외 또는 런타임 오류는 실행 중에 발생하는 오류를 의미한다.\n",
    "\n",
    "예외 또한 코드를 제대로 수정해주면 해결된다."
   ]
  },
  {
   "cell_type": "markdown",
   "id": "015393bb",
   "metadata": {},
   "source": [
    "예외를 해결하는 모든 것을 예외 처리라고 한다. \n",
    "\n",
    "1. 조건문을 사용하는 방법\n",
    "2. try 구문을 사용하는 방법\n",
    "\n",
    "→ 조건문을 사용해서 예외를 처리하는 방법을 기본 예외 처리라고 부른다."
   ]
  },
  {
   "cell_type": "code",
   "execution_count": null,
   "id": "83bf7a3a",
   "metadata": {},
   "outputs": [
    {
     "name": "stdout",
     "output_type": "stream",
     "text": [
      "원의 반지름 : 2\n",
      "원의 둘레 : 6.28\n",
      "원의 넓이 :  12.56\n",
      "정수를 입력하지 않았습니다.\n"
     ]
    }
   ],
   "source": [
    "### 조건문을 이용한 예외처리 \n",
    "\n",
    "user_input_a = input(\"정수 입력\")\n",
    "\n",
    "if user_input_a.isdigit() :\n",
    "\tnumber_input_a = int(user_input_a)\n",
    "\t\n",
    "\tprint(\"원의 반지름 :\", number_input_a)\n",
    "\tprint(\"원의 둘레 :\", 3.14 * number_input_a)\n",
    "\tprint(\"원의 넓이 : \", 3.14* number_input_a * number_input_a)\n",
    "\t\n",
    "else :\n",
    "\tprint(\"정수를 입력하지 않았습니다.\")\n",
    " \n",
    "user_input_b = input(\"정수 입력\")\n",
    "\n",
    "if user_input_b.isdigit() :\n",
    "\tnumber_input_b = int(user_input_b)\n",
    "\t\n",
    "\tprint(\"원의 반지름 :\", number_input_b)\n",
    "\tprint(\"원의 둘레 :\", 3.14 * number_input_b)\n",
    "\tprint(\"원의 넓이 : \", 3.14* number_input_b * number_input_b)\n",
    "\t\n",
    "else :\n",
    "\tprint(\"정수를 입력하지 않았습니다.\")"
   ]
  },
  {
   "cell_type": "code",
   "execution_count": null,
   "id": "6e1321d4",
   "metadata": {},
   "outputs": [
    {
     "name": "stdout",
     "output_type": "stream",
     "text": [
      "정수가 아닌 문자를 입력하였습니다.\n"
     ]
    }
   ],
   "source": [
    "### try except 구문을 이용한 예외처리\n",
    "\n",
    "try : \n",
    "\tnumber_input_a = int(input())\n",
    "\t\n",
    "\tprint(\"원의 반지름 :\", number_input_a)\n",
    "\tprint(\"원의 둘레 :\", 3.14 * number_input_a)\n",
    "\tprint(\"원의 넓이 : \", 3.14* number_input_a * number_input_a)\n",
    "\n",
    "except :\n",
    "\tprint(\"정수가 아닌 문자를 입력하였습니다.\")\n",
    "\n"
   ]
  }
 ],
 "metadata": {
  "kernelspec": {
   "display_name": "base",
   "language": "python",
   "name": "python3"
  },
  "language_info": {
   "codemirror_mode": {
    "name": "ipython",
    "version": 3
   },
   "file_extension": ".py",
   "mimetype": "text/x-python",
   "name": "python",
   "nbconvert_exporter": "python",
   "pygments_lexer": "ipython3",
   "version": "3.10.11"
  }
 },
 "nbformat": 4,
 "nbformat_minor": 5
}
