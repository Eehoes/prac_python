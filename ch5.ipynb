{
 "cells": [
  {
   "cell_type": "code",
   "execution_count": 3,
   "id": "7410ee87",
   "metadata": {},
   "outputs": [
    {
     "name": "stdout",
     "output_type": "stream",
     "text": [
      "안녕하세요\n",
      "즐겁지 못한\n",
      "파이썬 공부\n",
      "\n",
      "안녕하세요\n",
      "즐겁지 못한\n",
      "파이썬 공부\n",
      "\n",
      "안녕하세요\n",
      "즐겁지 못한\n",
      "파이썬 공부\n",
      "\n"
     ]
    }
   ],
   "source": [
    "def print_n_items(n, *values) :\n",
    "\t# n번 반복\n",
    "\tfor i in range(n) : \n",
    "\t\tfor value in values :\n",
    "\t\t\tprint(value)\n",
    "\t\tprint()\n",
    "\t\t\n",
    "# 함수 호출\n",
    "print_n_items(3, \"안녕하세요\", \"즐겁지 못한\", \"파이썬 공부\")"
   ]
  },
  {
   "cell_type": "markdown",
   "id": "5c2d6d98",
   "metadata": {},
   "source": [
    "```python\n",
    "def function_name(매개변수) : \n",
    "\t...\n",
    "\t...\n",
    "```\n",
    "\n",
    "함수를 생성할 때 매개변수를 만들었는데, 호출할 때 매개변수를 넣지 않거나 더 많이 넣게 되면 TypeError가 발생한다. \n",
    "\n",
    "위의 코드처럼 변수의 개수를 정해놓고 함수를 작성할 수 있지만, 가변 매개변수를 이용한다면 조금 더 유연하게 함수를 작성할 수 있다.\n",
    "\n",
    "가변 매개변수란? **함수에 전달되는 인자의 개수가 정해져 있지 않고, 동적으로 변할 수 있도록 하는 기능**을 말한다.\n",
    "\n",
    "가변 매개변수를 사용할 때는 다음과 같은 제약이 존재한다.\n",
    "\n",
    "1. 가변 매개변수 뒤에는 일반 매개변수가 올 수 없다.\n",
    "2. 가변 매개변수는 하나만 사용 가능하다."
   ]
  },
  {
   "cell_type": "markdown",
   "id": "ce23b45c",
   "metadata": {},
   "source": [
    "‘재귀’는 자기 자신을 호출하는 것을 말한다. 쉽게 말해 함수 내부에 또 다른 함수가 들어있는 것을 말한다.  \n",
    "\n",
    "재귀 함수를 이용하면 반복문보다 더 짧은 함수를 작성할 수 있지만, 상황에 따라서 같은 것을 기하급수적으로 많이 반복한다는 문제가 생길 수 있다. 이러한 문제를 **메모화**를 이용하여 해결할 수 있음.\n",
    "\n",
    "딕셔너리를 사용해서 한 번 계산한 값을 저장하고, 이를 메모한다고 표현한다. 딕셔너리에 값이 메모되어 있으면 처리를 수행하지 않고 곧바로 메모된 값을 돌려주면서 코드의 속도를 빠르게 만드는 것이다."
   ]
  },
  {
   "cell_type": "code",
   "execution_count": 4,
   "id": "31fc00e4",
   "metadata": {},
   "outputs": [
    {
     "name": "stdout",
     "output_type": "stream",
     "text": [
      "fibo(10): 55\n",
      "fibo(20): 6765\n",
      "fibo(30): 832040\n",
      "fibo(40): 102334155\n",
      "fibo(50): 12586269025\n"
     ]
    }
   ],
   "source": [
    "dict= {\n",
    "\t1: 1,\n",
    "\t2: 1\n",
    "}\n",
    "\n",
    "# 함수 선언\n",
    "def fibo(n) :\n",
    "\tif n in dict:\n",
    "\t\t# 메모가 되어있으면 메모된 값을 리턴\n",
    "\t\treturn dict[n]\n",
    "\telse :\n",
    "\t\toutput = fibo(n-1) + fibo(n-2)\n",
    "\t\tdict[n] = output\n",
    "\t\treturn output\n",
    "\t\t\n",
    "# 함수 선언\n",
    "print(\"fibo(10):\", fibo(10))\n",
    "print(\"fibo(20):\", fibo(20))\n",
    "print(\"fibo(30):\", fibo(30))\n",
    "print(\"fibo(40):\", fibo(40))\n",
    "print(\"fibo(50):\", fibo(50))"
   ]
  },
  {
   "cell_type": "markdown",
   "id": "46d6f3bc",
   "metadata": {},
   "source": [
    "### 람다 ###\n",
    "\n",
    "함수를 간단하고 쉽게 선언하는 방법. 주로 1회용 함수를 만들어야 할 때 많이 사용된다.\n",
    "\n",
    "```python\n",
    "lambda 매개변수 : 리턴값\n",
    "```"
   ]
  },
  {
   "cell_type": "code",
   "execution_count": 9,
   "id": "4805219e",
   "metadata": {},
   "outputs": [
    {
     "name": "stdout",
     "output_type": "stream",
     "text": [
      " map() 함수의 실행 결과\n",
      "map(power, list_input_a): <map object at 0x00000182732BCC40>\n",
      "map(power, list_input_a): [1, 4, 9, 16, 25]\n",
      "\n"
     ]
    }
   ],
   "source": [
    "power = lambda x : x*x\n",
    "under_3 = lambda x : x<3\n",
    "\n",
    "list_input_a = [1,2,3,4,5] \n",
    "\n",
    "output_a =map(power, list_input_a)\n",
    "\n",
    "print(\" map() 함수의 실행 결과\")\n",
    "print(\"map(power, list_input_a):\", output_a)\n",
    "print(\"map(power, list_input_a):\", list(output_a))\n",
    "print()"
   ]
  },
  {
   "cell_type": "markdown",
   "id": "454b6043",
   "metadata": {},
   "source": [
    "### 튜플 ###\n",
    "\n",
    "함수와 함께 많이 사용되는 리스트와 비슷한 자료형으로, 리스트와 다른 점은 한 번 결정된 요소는 바꿀 수 없다는 것이다. \n"
   ]
  },
  {
   "cell_type": "code",
   "execution_count": 5,
   "id": "57767c77",
   "metadata": {},
   "outputs": [
    {
     "name": "stdout",
     "output_type": "stream",
     "text": [
      "10\n",
      "20\n",
      "30\n"
     ]
    }
   ],
   "source": [
    "tuple_test = (10,20,30) \n",
    "print(tuple_test [0])\n",
    "print(tuple_test [1])\n",
    "print(tuple_test [2])"
   ]
  },
  {
   "cell_type": "markdown",
   "id": "75cdf5f8",
   "metadata": {},
   "source": [
    "위에서 말했듯, 튜플은 한 번 결정된 요소는 바꿀 수 없다. 그러므로 튜플의 요소를 변경하려고 하면 에러가 나는 것을 볼 수 있다."
   ]
  },
  {
   "cell_type": "code",
   "execution_count": 6,
   "id": "95d1fadb",
   "metadata": {},
   "outputs": [
    {
     "ename": "TypeError",
     "evalue": "'tuple' object does not support item assignment",
     "output_type": "error",
     "traceback": [
      "\u001b[1;31m---------------------------------------------------------------------------\u001b[0m",
      "\u001b[1;31mTypeError\u001b[0m                                 Traceback (most recent call last)",
      "Cell \u001b[1;32mIn[6], line 2\u001b[0m\n\u001b[0;32m      1\u001b[0m tuple_test \u001b[38;5;241m=\u001b[39m (\u001b[38;5;241m10\u001b[39m,\u001b[38;5;241m20\u001b[39m,\u001b[38;5;241m30\u001b[39m) \n\u001b[1;32m----> 2\u001b[0m \u001b[43mtuple_test\u001b[49m\u001b[43m[\u001b[49m\u001b[38;5;241;43m0\u001b[39;49m\u001b[43m]\u001b[49m \u001b[38;5;241m=\u001b[39m \u001b[38;5;241m10\u001b[39m\n",
      "\u001b[1;31mTypeError\u001b[0m: 'tuple' object does not support item assignment"
     ]
    }
   ],
   "source": [
    "tuple_test = (10,20,30) \n",
    "tuple_test[0] = 10"
   ]
  },
  {
   "cell_type": "markdown",
   "id": "94136dc7",
   "metadata": {},
   "source": [
    "튜플은 함수의 리턴에서 많이 사용한다."
   ]
  },
  {
   "cell_type": "code",
   "execution_count": 7,
   "id": "78249592",
   "metadata": {},
   "outputs": [
    {
     "name": "stdout",
     "output_type": "stream",
     "text": [
      "a : 10\n",
      "b : 20\n"
     ]
    }
   ],
   "source": [
    "def test() :\n",
    "\treturn (10,20)\n",
    "\t\n",
    "a,b = test()\n",
    "\n",
    "print(\"a :\",a)\n",
    "print(\"b :\",b)"
   ]
  },
  {
   "cell_type": "markdown",
   "id": "dda41c61",
   "metadata": {},
   "source": [
    "**함수의 매개변수에 사용하는 함수를 콜백 함수**라고 한다."
   ]
  },
  {
   "cell_type": "code",
   "execution_count": 8,
   "id": "6f7935cd",
   "metadata": {},
   "outputs": [
    {
     "name": "stdout",
     "output_type": "stream",
     "text": [
      "안녕하세요\n",
      "안녕하세요\n",
      "안녕하세요\n",
      "안녕하세요\n",
      "안녕하세요\n",
      "안녕하세요\n",
      "안녕하세요\n",
      "안녕하세요\n",
      "안녕하세요\n",
      "안녕하세요\n"
     ]
    }
   ],
   "source": [
    "def call_10_times(func):\n",
    "\tfor i in range(10) : \n",
    "\t\tfunc()\n",
    "\t\t\n",
    "def print_Hello():\n",
    "\tprint(\"안녕하세요\")\n",
    "\t\n",
    "call_10_times(print_Hello)"
   ]
  },
  {
   "cell_type": "markdown",
   "id": "706e8d0b",
   "metadata": {},
   "source": [
    "### 제너레이터\n",
    "\n",
    "제너레이터는 이터레이터를 직접 만들 때 사용하는 코드로, 함수 내부에 yield 키워드를 사용하면 해당 함수는 제너레이터 함수가 되며, 일반 함수와는 달리 함수를 호출해도 함수 내부의 코드가 실행되지 않는다.\n",
    "\n",
    "제너레이터 객체는 next() 함수를 사용해 함수 내부의 코드를 실행한다. 이때 yield 키워드 부분까지만 실행하며, next() 함수의 리턴값으로 yield 키워드 뒤에 입력한 값이 출력된다."
   ]
  },
  {
   "cell_type": "code",
   "execution_count": 10,
   "id": "272219dc",
   "metadata": {},
   "outputs": [
    {
     "name": "stdout",
     "output_type": "stream",
     "text": [
      "A지점 통과\n",
      "B지점 통과\n",
      "<generator object test at 0x0000018272149620>\n"
     ]
    }
   ],
   "source": [
    "def test():\n",
    "\tprint(\"함수가 호출되었습니다.\")\n",
    "\tyield \"test\"\n",
    "\t\n",
    "print(\"A지점 통과\")\n",
    "test()\n",
    "\n",
    "print(\"B지점 통과\")\n",
    "test()\n",
    "\n",
    "print(test())"
   ]
  },
  {
   "cell_type": "code",
   "execution_count": 11,
   "id": "9835cefe",
   "metadata": {},
   "outputs": [
    {
     "name": "stdout",
     "output_type": "stream",
     "text": [
      "D지점 통과\n",
      "A지점 통과\n",
      "1\n",
      "E지점 통과\n",
      "B지점 통과\n",
      "2\n",
      "F지점 통과\n",
      "C지점 통과\n"
     ]
    },
    {
     "ename": "StopIteration",
     "evalue": "",
     "output_type": "error",
     "traceback": [
      "\u001b[1;31m---------------------------------------------------------------------------\u001b[0m",
      "\u001b[1;31mStopIteration\u001b[0m                             Traceback (most recent call last)",
      "Cell \u001b[1;32mIn[11], line 19\u001b[0m\n\u001b[0;32m     16\u001b[0m \u001b[38;5;28mprint\u001b[39m(b)\n\u001b[0;32m     18\u001b[0m \u001b[38;5;28mprint\u001b[39m(\u001b[38;5;124m\"\u001b[39m\u001b[38;5;124mF지점 통과\u001b[39m\u001b[38;5;124m\"\u001b[39m)\n\u001b[1;32m---> 19\u001b[0m c \u001b[38;5;241m=\u001b[39m \u001b[38;5;28;43mnext\u001b[39;49m\u001b[43m(\u001b[49m\u001b[43moutput\u001b[49m\u001b[43m)\u001b[49m\n\u001b[0;32m     20\u001b[0m \u001b[38;5;28mprint\u001b[39m(c)\n\u001b[0;32m     22\u001b[0m \u001b[38;5;66;03m# 한 번 더 실행하기\u001b[39;00m\n",
      "\u001b[1;31mStopIteration\u001b[0m: "
     ]
    }
   ],
   "source": [
    "def test() : \n",
    "\tprint(\"A지점 통과\")\n",
    "\tyield 1\t\n",
    "\tprint(\"B지점 통과\")\n",
    "\tyield 2\n",
    "\tprint(\"C지점 통과\")\n",
    "\t\n",
    "output = test() \n",
    "\n",
    "print(\"D지점 통과\")\n",
    "a = next(output)\n",
    "print(a)\n",
    "\n",
    "print(\"E지점 통과\")\n",
    "b = next(output)\n",
    "print(b)\n",
    "\n",
    "print(\"F지점 통과\")\n",
    "c = next(output)\n",
    "print(c)\n",
    "\n",
    "# 한 번 더 실행하기\n",
    "next(output)"
   ]
  },
  {
   "cell_type": "markdown",
   "id": "8b958aa0",
   "metadata": {},
   "source": [
    "→ print(”c지점 통과”) 다음에 yield 키워드가 없어서, 이 키워드를 만나지 못하고 함수가 끝나버려서 StopIteration 이라는 예외가 발생하게 되는 것이다."
   ]
  }
 ],
 "metadata": {
  "kernelspec": {
   "display_name": "base",
   "language": "python",
   "name": "python3"
  },
  "language_info": {
   "codemirror_mode": {
    "name": "ipython",
    "version": 3
   },
   "file_extension": ".py",
   "mimetype": "text/x-python",
   "name": "python",
   "nbconvert_exporter": "python",
   "pygments_lexer": "ipython3",
   "version": "3.10.11"
  }
 },
 "nbformat": 4,
 "nbformat_minor": 5
}
