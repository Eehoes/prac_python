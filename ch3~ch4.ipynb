{
 "cells": [
  {
   "cell_type": "markdown",
   "id": "d2914fcd",
   "metadata": {},
   "source": [
    "### pass 키워드\n",
    " if문을 만들 때 내부는 나중에 작성하기 위해 비워두는 경우가 생기는데, 그렇게 비워둔 채로 코드를 실행하면 에러가 나게 된다. 이를 pass 라는 키워드를 넣어줌으로써 에러가 나는 것을 방지할 수 있다. "
   ]
  },
  {
   "cell_type": "code",
   "execution_count": null,
   "id": "99db70c3",
   "metadata": {},
   "outputs": [],
   "source": [
    "if zero == 0\n",
    "    pass\n",
    "else : \n",
    "    pass"
   ]
  },
  {
   "cell_type": "markdown",
   "id": "70de9252",
   "metadata": {},
   "source": [
    "- 리스트 함수\n",
    "    1. 리스트 요소 추가하기\n",
    "        1. **`list_name.append(요소)`**\n",
    "        2. **`list.insert(위치,요소)`**\n",
    "        \n",
    "        → 위치를 정할 수 있는 것은 insert\n",
    "        \n",
    "    2. 리스트 요소 제거하기\n",
    "        1. **`del list_name[인덱스]`**\n",
    "        2. **`list.pop(인덱스)`**\n",
    "        3. **`list_name.remove(값)`**\n",
    "        4. **`list_name.clear() →`** 모두 제거하기 ****\n",
    "    3. 리스트 정렬\n",
    "        1. **`list_name.sort()` → 오름차순**\n",
    "        2. **`list_name.sort(reverse=True)` → 내림차순**\n",
    "    4. 리스트 내부에 있는지 확인하기 \n",
    "        1. 값 in list_name 하면 True/False 로 나올 것임."
   ]
  },
  {
   "cell_type": "code",
   "execution_count": 1,
   "id": "e0cda9b4",
   "metadata": {},
   "outputs": [
    {
     "name": "stdout",
     "output_type": "stream",
     "text": [
      "어벤저스\n"
     ]
    }
   ],
   "source": [
    "\n",
    "dict_a = {\n",
    "\t\"name\" : \"어벤저스\",\n",
    "\t\"type\" : \"히어로 무비\"\n",
    "}\n",
    "print(dict_a[\"name\"])"
   ]
  },
  {
   "cell_type": "markdown",
   "id": "b4dfb06d",
   "metadata": {},
   "source": [
    "### 딕셔너리 ### \n",
    "\n",
    "리스트가  인덱스 기반으로 값을 저장하는 것이라면, 딕셔너리는 키를 기반으로 값을 저장하는 것이다. \n",
    "\n",
    "리스트 : 변수 = []\n",
    "\n",
    "딕셔너리 : 변수 = {} \n",
    "\n",
    "```python\n",
    "dict_a = {\n",
    "\t\"name\" : \"어벤저스\",\n",
    "\t\"type\" : \"히어로 무비\"\n",
    "\t\n",
    "\t}\n",
    "```\n",
    "\n",
    "딕셔너리를 선언할 때는 {} 중괄호를 사용하지만, 요소에 접근할 때에는 [] 대괄호를 이용한다는 것이다.\n",
    "\n",
    "```python\n",
    "print(dict_a[\"name\"])\n",
    "-> 어벤저스가 출력됨 \n",
    "```\n",
    "\n",
    "```python\n",
    "fruit = {\n",
    "\t\"name\" : \"banana\",\n",
    "\t\"color\" : \"yellow\"\n",
    "\t}\n",
    "```\n",
    "\n",
    "이런 코드가 있다는 가정을 해보자. 여기서 새로운 값을 추가하고 싶다면 새로운 키를 기반으로 해서 값을 입력하면 된다.\n",
    "\n",
    "```python\n",
    "fruit[\"price\"] = 5000\n",
    "\n",
    "fruit = {\n",
    "\t\"name\" : \"banana\",\n",
    "\t\"color\" : \"yellow\",\n",
    "\t\"price\" : 5000\n",
    "\t}\n",
    "```\n",
    "\n",
    "하지만 기존에 존재하는 키에 새로운 값을 넣으면 이전 값을 대체하는 것을 확인할 수 있다.\n",
    "\n",
    "```python\n",
    "fruit[\"name\"] = \"pineapple\"\n",
    "\n",
    "fruit = {\n",
    "\t\"name\" : \"pineapple\",\n",
    "\t\"color\" : \"yellow\",\n",
    "\t\"price\" : 5000\n",
    "\t}\n",
    "```\n",
    "\n",
    "- 요소 제거\n",
    "    - del 키워드를 사용해서 제거할 수 있다.\n",
    "    - **`del fruit[”price”]`**\n",
    "\n",
    "---\n",
    "\n",
    "list는 리스트의 길이를 넘는 인덱스에 접근하면 indexError가 발생한다. 이처럼 딕셔너리도 존재하지 않는 키에 접근하면 마찬가지로 KeyError가 발생한다. \n",
    "\n",
    "그 외에 in 키워드를 이용해서 dictionary에 값이 존재하는지 확인할 수 있다.\n",
    "\n",
    "```python\n",
    "fruit = {\n",
    "\t\"name\" : \"banana\",\n",
    "\t\"color\" : \"yellow\",\n",
    "\t\"price\" : 5000\n",
    "\t}\n",
    "\t\n",
    "\tkey = input()\n",
    "\tif key in fruit :\n",
    "\t\tprint(fruit[key])\n",
    "\telse :\n",
    "\t\tprint(\"존재하지 않는 키에 접근하고 있습니다.\")\n",
    "```"
   ]
  },
  {
   "cell_type": "markdown",
   "id": "901a961a",
   "metadata": {},
   "source": [
    "### 딕셔너리 - get 함수 ###\n",
    "    \n",
    "    get() 함수는 딕셔너리의 키로 값을 추출하는 기능으로 딕셔너리[키]를 입력할 때와 같은 기능을 수행하지만, **존재하지 않는 키에 접근할 경우 KeyError를 발생시키지 않고 None을 출력**한다."
   ]
  },
  {
   "cell_type": "markdown",
   "id": "e05334bf",
   "metadata": {},
   "source": [
    "### Range ###\n",
    "    1. 매개변수에 숫자 한 개 넣는 방법\n",
    "        1. range(A) : A는 숫자, 0부터 A-1까지의 정수\n",
    "    2. 매개변수에 숫자를 두 개 넣는 방법\n",
    "        1. range(A,B) : A,B 는 숫자. A부터 B-1까지의 정수\n",
    "    3. 매개변수에 숫자를 세 개 넣는 방법\n",
    "        1. range(A,B,C) : A부터 B-1까지의 정수로 범위를 만드는데, 앞 뒤으 숫자가 C만큼의 차이를 가짐 \n",
    "    \n",
    "    → range에 정수가 아닌 숫자를 넣게 되면 TypeError가 발생하게 된다."
   ]
  },
  {
   "cell_type": "markdown",
   "id": "c2e1490b",
   "metadata": {},
   "source": [
    "### 이터레이터 ###\n",
    "\n",
    "```python\n",
    "for 반복자 in 반복할 수 있는 것\n",
    "```\n",
    "\n",
    "여기서 ‘반복할 수 있는 것’을 프로그래밍 용어로 이터러블이라고 한다. **이터러블은 내부에 있는 요소들을 차례차례 꺼낼 수 있는 객체를 의미**하며, 리스트, 딕셔너리, 문자열, 튜플 등은 모두 내부에서 요소를 차례차례 꺼낼 수 있으므로 이터러블 이라고 할 수 있다. \n",
    "\n",
    "이터러블 중에서 next() 함수를 적용해 하나하나 꺼낼 수 있는 요소를 이터레이터라고 한다."
   ]
  },
  {
   "cell_type": "code",
   "execution_count": 2,
   "id": "943d3d84",
   "metadata": {},
   "outputs": [
    {
     "name": "stdout",
     "output_type": "stream",
     "text": [
      "reversed_numbers :  <list_reverseiterator object at 0x0000023C3EBA8F40>\n",
      "6\n",
      "5\n",
      "4\n",
      "3\n",
      "2\n"
     ]
    }
   ],
   "source": [
    "numbers = [1,2,3,4,5,6] \n",
    "r_num = reversed(numbers)\n",
    "\n",
    "# reversed_numbers 를 출력\n",
    "print(\"reversed_numbers : \", r_num)\n",
    "print(next(r_num))\n",
    "print(next(r_num))\n",
    "print(next(r_num))\n",
    "print(next(r_num))\n",
    "print(next(r_num))"
   ]
  }
 ],
 "metadata": {
  "kernelspec": {
   "display_name": "base",
   "language": "python",
   "name": "python3"
  },
  "language_info": {
   "codemirror_mode": {
    "name": "ipython",
    "version": 3
   },
   "file_extension": ".py",
   "mimetype": "text/x-python",
   "name": "python",
   "nbconvert_exporter": "python",
   "pygments_lexer": "ipython3",
   "version": "3.10.11"
  }
 },
 "nbformat": 4,
 "nbformat_minor": 5
}
