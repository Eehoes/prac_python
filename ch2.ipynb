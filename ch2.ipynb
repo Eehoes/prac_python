{
 "cells": [
  {
   "cell_type": "markdown",
   "id": "53f5af89",
   "metadata": {},
   "source": [
    "- + 연산자\n",
    "    \n",
    "    문자열에는 + 연산자로 문자열 연결 연산을 적용할 수 있다.\n",
    "    \n",
    "    ex) “가나다” + “라마바” → 가나다라마바\n",
    "    \n",
    "    But 문자열은 무조건 문자열끼리 + 연산자를 사용해서 연결해야 하므로, 문자인 숫자? 를 문자열과 더하고 싶다면 큰따옴표를 붙여 문자열로 인식시킨 후에만 원하는 결과를 얻을 수 있다.\n",
    "    \n",
    "    “안녕하세요” + 1 → ERROR\n",
    "    \n",
    "    “안녕하세요” + “1” → 안녕하세요1"
   ]
  },
  {
   "cell_type": "markdown",
   "id": "315c9305",
   "metadata": {},
   "source": [
    "- * 연산자\n",
    "    \n",
    "    문자열을 숫자와 * 연산자로 연결하면 문자열을 반복할 수 있다.\n",
    "    \n",
    "    ex) print(”안녕하세요” * 3) → 안녕하세요안녕하세요안녕하세요"
   ]
  },
  {
   "cell_type": "markdown",
   "id": "48b2d2cc",
   "metadata": {},
   "source": [
    "문자열의 특정 범위를 선택할 때 사용하는 연산자.\n",
    "\n",
    "ex) print(”안녕하세요”[1:4]) → 녕하세 \n",
    "\n",
    "→ [a:b] 를 사용하게 된다면, a 부터 b-1까지 임을 잊지 않아야 한다.\n",
    "\n",
    "헷갈리지 말 것\n",
    "\n",
    "배열의 시작이 0인 것처럼, [1] 은 [0] 다음이므로, “**안”**이 아니라 “**녕”**인 것이다.\n",
    "\n",
    "---\n",
    "\n",
    "ex) print(”안녕하세요”[:4]) → 안녕하세 \n",
    "\n",
    "→ [0:4] 에서 0이 생략되었음을 알 수 있다.\n",
    "\n",
    "---\n",
    "\n",
    "ex) print(”안녕하세요”[2:]) → 하세요\n",
    "\n",
    "→ [2:5]에서 5가 생략되었음을 알 수 있다."
   ]
  },
  {
   "cell_type": "markdown",
   "id": "970bcade",
   "metadata": {},
   "source": [
    "IndexError 예외는 리스트/문자열의 수를 넘는 요소/글자를 선택할 때 발생한다. \n",
    "\n",
    "쉽게 예시를 들자.\n",
    "\n",
    "print(”안녕하세요”[6]) 이라는 코드를 작성하게 된다면, 문자열의 길이를 넘는 부분을 선택했기 때문에 IndexError가 발생하게 된다."
   ]
  },
  {
   "cell_type": "markdown",
   "id": "c261115d",
   "metadata": {},
   "source": [
    "/과 다르게 // 연산자를 사용한 수식의 결과는 소수점 아래를 떼어 버린 값이 출력되는 것을 확인할 수 있다. "
   ]
  },
  {
   "cell_type": "markdown",
   "id": "0602dec2",
   "metadata": {},
   "source": [
    "서로 다른 자료를 연산하면 TypeError 라는 예외가 발생한다."
   ]
  },
  {
   "cell_type": "code",
   "execution_count": 1,
   "id": "36486bf1",
   "metadata": {},
   "outputs": [
    {
     "name": "stdout",
     "output_type": "stream",
     "text": [
      "gdgd\n"
     ]
    }
   ],
   "source": [
    "string1 = input()\n",
    "print(string1)"
   ]
  },
  {
   "cell_type": "markdown",
   "id": "a27df495",
   "metadata": {},
   "source": [
    "문자열을 숫자로 변환하는 과정을 CAST 라고 한다. int 를 제외하고 float를 사용하면 실수형으로 변경할 수 있다."
   ]
  },
  {
   "cell_type": "code",
   "execution_count": 8,
   "id": "5b7a89cc",
   "metadata": {},
   "outputs": [
    {
     "name": "stdout",
     "output_type": "stream",
     "text": [
      "입력받은 string_a = 12345\n",
      "int_a의 타입은 : <class 'int'>\n",
      "string_a의 타입은 : <class 'str'>\n"
     ]
    }
   ],
   "source": [
    "string_a = input(\"입력하세요\")\n",
    "int_a = int(string_a)\n",
    "\n",
    "print(\"입력받은 string_a = \" + string_a)\n",
    "print(\"int_a의 타입은 : \" + str(type(int_a)))\n",
    "print(\"string_a의 타입은 : \" + str(type(string_a)))"
   ]
  },
  {
   "cell_type": "markdown",
   "id": "aed89bb0",
   "metadata": {},
   "source": [
    "자료형을 변환할 때 **변환할 수 없는 것을 변환하려고 하면** ValueError 예외가 발생한다. \n",
    "\n",
    "예를 들어, **숫자가 아닌 것을 숫자로 변환하려고 할 때**와 같은 상황이 존재한다. \n",
    "\n",
    "다른 예시로는 소수점이 있는 숫자 형식의 문자열을 int() 함수로 변환하려고 할 때이다."
   ]
  },
  {
   "cell_type": "code",
   "execution_count": 10,
   "id": "e73afc94",
   "metadata": {},
   "outputs": [
    {
     "name": "stdout",
     "output_type": "stream",
     "text": [
      "입력받은 string_a = 123.12\n",
      "float_a의 타입은 : <class 'float'>\n",
      "string_a의 타입은 : <class 'str'>\n",
      "소수점이 들어간 숫자를 int 형식으로 변환하면 ValueError가 날 것이다.\n"
     ]
    },
    {
     "ename": "ValueError",
     "evalue": "invalid literal for int() with base 10: '123.12'",
     "output_type": "error",
     "traceback": [
      "\u001b[1;31m---------------------------------------------------------------------------\u001b[0m",
      "\u001b[1;31mValueError\u001b[0m                                Traceback (most recent call last)",
      "Cell \u001b[1;32mIn[10], line 9\u001b[0m\n\u001b[0;32m      6\u001b[0m \u001b[38;5;28mprint\u001b[39m(\u001b[38;5;124m\"\u001b[39m\u001b[38;5;124mstring_a의 타입은 : \u001b[39m\u001b[38;5;124m\"\u001b[39m \u001b[38;5;241m+\u001b[39m \u001b[38;5;28mstr\u001b[39m(\u001b[38;5;28mtype\u001b[39m(string_a)))\n\u001b[0;32m      8\u001b[0m \u001b[38;5;28mprint\u001b[39m(\u001b[38;5;124m\"\u001b[39m\u001b[38;5;124m소수점이 들어간 숫자를 int 형식으로 변환하면 ValueError가 날 것이다.\u001b[39m\u001b[38;5;124m\"\u001b[39m)\n\u001b[1;32m----> 9\u001b[0m \u001b[38;5;28mprint\u001b[39m(\u001b[38;5;28;43mint\u001b[39;49m\u001b[43m(\u001b[49m\u001b[43mstring_a\u001b[49m\u001b[43m)\u001b[49m)\n",
      "\u001b[1;31mValueError\u001b[0m: invalid literal for int() with base 10: '123.12'"
     ]
    }
   ],
   "source": [
    "string_a = input(\"소수점이 있는 숫자를 입력하시오\")\n",
    "float_a = float(string_a)\n",
    "\n",
    "print(\"입력받은 string_a = \" + string_a)\n",
    "print(\"float_a의 타입은 : \" + str(type(float_a)))\n",
    "print(\"string_a의 타입은 : \" + str(type(string_a)))\n",
    "\n",
    "print(\"소수점이 들어간 숫자를 int 형식으로 변환하면 ValueError가 날 것이다.\")\n",
    "print(int(string_a))\n",
    "      \n"
   ]
  },
  {
   "cell_type": "markdown",
   "id": "a8f5ee1a",
   "metadata": {},
   "source": [
    "format() 함수는 문자열이 가지고 있는 함수로, 중괄호를 포함한 문자열 뒤에 마침표를 찌ㄱ고 format() 함수를 사용하는데, 중괄호의 개수와 .format 함수 괄호 안 매개변수의 개수는 반드시 같아야 한다."
   ]
  },
  {
   "cell_type": "code",
   "execution_count": 11,
   "id": "1a4d92b0",
   "metadata": {},
   "outputs": [
    {
     "name": "stdout",
     "output_type": "stream",
     "text": [
      "10\n",
      "<class 'str'>\n"
     ]
    }
   ],
   "source": [
    "string_a = \"{}\".format(10)\n",
    "\n",
    "print(string_a)\n",
    "print(type(string_a))"
   ]
  },
  {
   "cell_type": "code",
   "execution_count": 21,
   "id": "1627dfa1",
   "metadata": {},
   "outputs": [
    {
     "name": "stdout",
     "output_type": "stream",
     "text": [
      "나는 사과 10 개를 먹고싶어 True\n"
     ]
    }
   ],
   "source": [
    "format_c = \"{} {} {} {} {}\".format(\"나는\", \"사과\", 10, \"개를 먹고싶어\", True)\n",
    "print(format_c)"
   ]
  },
  {
   "cell_type": "markdown",
   "id": "f2e4e5ab",
   "metadata": {},
   "source": [
    "1. format 함수에서 d 앞에 + 기호를 붙이면 양수와 음수 기호를 표현할 수 있다. \n",
    "2. format 함수에서 d 앞에 숫자를 붙이면 그 만큼의 공백을 만든 후 그 뒤에 숫자를 채워준다.\n",
    "3. 혹은 기호와 공백을 조합할 수 있는데, 이 때는 = 기호를 앞에 붙여서 사용할 수 있다.\n",
    "4. 또는 +0을 넣어줌으로써 공백이 생긴 부분을 0으로 채워줄 수 있다. \n",
    "    -> 헷갈리면 안 되는게, 예를 들어 \"{:010d}\".format(123)이 존재한다고 가정하면, 123은 3칸을 차지하므로, 앞에 7칸만이 0으로 채워진다.\n",
    "\n",
    "--> 지금까지 d를 붙인 것은 정수이기 때문에 d를 붙인 것이며, f를 붙임으로써 부동소수점 표현도 가능하게 된다. "
   ]
  },
  {
   "cell_type": "code",
   "execution_count": 29,
   "id": "6c13c03a",
   "metadata": {},
   "outputs": [
    {
     "name": "stdout",
     "output_type": "stream",
     "text": [
      "-33\n",
      "+33\n",
      "  -33\n",
      "        33\n",
      "-0033\n",
      "0000000033\n"
     ]
    }
   ],
   "source": [
    "output_a = \"{:+d}\".format(-33)\n",
    "output_b = \"{:+d}\".format(33)\n",
    "print(output_a)\n",
    "print(output_b)\n",
    "\n",
    "output_c = \"{:5d}\".format(-33)\n",
    "output_d = \"{:10d}\".format(33)\n",
    "print(output_c)\n",
    "print(output_d)\n",
    "\n",
    "output_e = \"{:+05d}\".format(-33)\n",
    "output_f = \"{:010d}\".format(33)\n",
    "print(output_e)\n",
    "print(output_f)"
   ]
  }
 ],
 "metadata": {
  "kernelspec": {
   "display_name": "base",
   "language": "python",
   "name": "python3"
  },
  "language_info": {
   "codemirror_mode": {
    "name": "ipython",
    "version": 3
   },
   "file_extension": ".py",
   "mimetype": "text/x-python",
   "name": "python",
   "nbconvert_exporter": "python",
   "pygments_lexer": "ipython3",
   "version": "3.10.11"
  }
 },
 "nbformat": 4,
 "nbformat_minor": 5
}
